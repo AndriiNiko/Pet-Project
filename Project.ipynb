{
 "cells": [
  {
   "cell_type": "markdown",
   "id": "ee4da327-61dc-4c3b-8e15-984c5c10f502",
   "metadata": {},
   "source": [
    "# Alerting system for monitoring the passage of payments"
   ]
  },
  {
   "cell_type": "code",
   "execution_count": 67,
   "id": "a668b3e3-ddc6-41f2-b9b1-c9360325e4fe",
   "metadata": {},
   "outputs": [],
   "source": [
    "import numpy as np\n",
    "import pandas as pd\n",
    "from pmdarima import auto_arima\n",
    "import plotly.graph_objects as go\n",
    "from plotly.subplots import make_subplots\n",
    "from sklearn.metrics import mean_absolute_error, mean_squared_error\n",
    "from statsmodels.tsa.seasonal import STL\n"
   ]
  },
  {
   "cell_type": "markdown",
   "id": "46f0cc01-58b4-4692-a690-6d65a1b8be12",
   "metadata": {},
   "source": [
    "### Loading and transformation"
   ]
  },
  {
   "cell_type": "code",
   "execution_count": 70,
   "id": "42311f51-e3a9-4bfe-b1d0-09ee75e70437",
   "metadata": {},
   "outputs": [
    {
     "data": {
      "text/html": [
       "<div>\n",
       "<style scoped>\n",
       "    .dataframe tbody tr th:only-of-type {\n",
       "        vertical-align: middle;\n",
       "    }\n",
       "\n",
       "    .dataframe tbody tr th {\n",
       "        vertical-align: top;\n",
       "    }\n",
       "\n",
       "    .dataframe thead th {\n",
       "        text-align: right;\n",
       "    }\n",
       "</style>\n",
       "<table border=\"1\" class=\"dataframe\">\n",
       "  <thead>\n",
       "    <tr style=\"text-align: right;\">\n",
       "      <th></th>\n",
       "      <th>user_id</th>\n",
       "      <th>country_id</th>\n",
       "      <th>date</th>\n",
       "      <th>payment_id</th>\n",
       "      <th>status</th>\n",
       "    </tr>\n",
       "  </thead>\n",
       "  <tbody>\n",
       "    <tr>\n",
       "      <th>0</th>\n",
       "      <td>100276365</td>\n",
       "      <td>96</td>\n",
       "      <td>2022-01-01</td>\n",
       "      <td>11434866</td>\n",
       "      <td>fail</td>\n",
       "    </tr>\n",
       "    <tr>\n",
       "      <th>1</th>\n",
       "      <td>98953875</td>\n",
       "      <td>54</td>\n",
       "      <td>2022-01-01</td>\n",
       "      <td>11434865</td>\n",
       "      <td>fail</td>\n",
       "    </tr>\n",
       "    <tr>\n",
       "      <th>2</th>\n",
       "      <td>94570279</td>\n",
       "      <td>54</td>\n",
       "      <td>2022-01-01</td>\n",
       "      <td>11434823</td>\n",
       "      <td>fail</td>\n",
       "    </tr>\n",
       "    <tr>\n",
       "      <th>3</th>\n",
       "      <td>93106544</td>\n",
       "      <td>96</td>\n",
       "      <td>2022-01-01</td>\n",
       "      <td>11435040</td>\n",
       "      <td>fail</td>\n",
       "    </tr>\n",
       "    <tr>\n",
       "      <th>4</th>\n",
       "      <td>99293681</td>\n",
       "      <td>54</td>\n",
       "      <td>2022-01-01</td>\n",
       "      <td>11434821</td>\n",
       "      <td>success</td>\n",
       "    </tr>\n",
       "    <tr>\n",
       "      <th>5</th>\n",
       "      <td>92146030</td>\n",
       "      <td>75</td>\n",
       "      <td>2022-01-01</td>\n",
       "      <td>11434813</td>\n",
       "      <td>fail</td>\n",
       "    </tr>\n",
       "    <tr>\n",
       "      <th>6</th>\n",
       "      <td>98362355</td>\n",
       "      <td>75</td>\n",
       "      <td>2022-01-01</td>\n",
       "      <td>11434884</td>\n",
       "      <td>fail</td>\n",
       "    </tr>\n",
       "    <tr>\n",
       "      <th>7</th>\n",
       "      <td>99293681</td>\n",
       "      <td>75</td>\n",
       "      <td>2022-01-01</td>\n",
       "      <td>11434803</td>\n",
       "      <td>processing</td>\n",
       "    </tr>\n",
       "    <tr>\n",
       "      <th>8</th>\n",
       "      <td>94570279</td>\n",
       "      <td>75</td>\n",
       "      <td>2022-01-01</td>\n",
       "      <td>11434822</td>\n",
       "      <td>fail</td>\n",
       "    </tr>\n",
       "    <tr>\n",
       "      <th>9</th>\n",
       "      <td>98953875</td>\n",
       "      <td>54</td>\n",
       "      <td>2022-01-01</td>\n",
       "      <td>11434884</td>\n",
       "      <td>fail</td>\n",
       "    </tr>\n",
       "  </tbody>\n",
       "</table>\n",
       "</div>"
      ],
      "text/plain": [
       "     user_id  country_id        date  payment_id      status\n",
       "0  100276365          96  2022-01-01    11434866        fail\n",
       "1   98953875          54  2022-01-01    11434865        fail\n",
       "2   94570279          54  2022-01-01    11434823        fail\n",
       "3   93106544          96  2022-01-01    11435040        fail\n",
       "4   99293681          54  2022-01-01    11434821     success\n",
       "5   92146030          75  2022-01-01    11434813        fail\n",
       "6   98362355          75  2022-01-01    11434884        fail\n",
       "7   99293681          75  2022-01-01    11434803  processing\n",
       "8   94570279          75  2022-01-01    11434822        fail\n",
       "9   98953875          54  2022-01-01    11434884        fail"
      ]
     },
     "execution_count": 70,
     "metadata": {},
     "output_type": "execute_result"
    }
   ],
   "source": [
    "df=pd.read_csv('data.csv')\n",
    "df.head(10)"
   ]
  },
  {
   "cell_type": "code",
   "execution_count": 71,
   "id": "24ab7cfc-81ab-44ff-9c65-1737d214af66",
   "metadata": {},
   "outputs": [],
   "source": [
    "# Calculation of the number of users with successful payment by day\n",
    "success = df[df['status'] == 'success'].groupby('date')['user_id'].nunique()\n",
    "# Calculation of the number of users with any payment by day\n",
    "all = df.groupby('date')['user_id'].nunique()\n",
    "# Successful rate by day\n",
    "data = pd.DataFrame(success/all).reset_index().sort_values('date')\n",
    "data.rename(columns={'user_id': 'metric'}, inplace=True)\n",
    "\n",
    "#Ratio of the number of users per day\n",
    "coef = df.groupby('date')['user_id'].nunique().mean()/df.groupby('date')['user_id'].nunique().rolling(window=7, min_periods=1).mean()\n",
    "coef = pd.DataFrame(coef).reset_index().sort_values('date')\n",
    "data['user_count']=coef['user_id']\n",
    "\n",
    "# Drop n/a, set index\n",
    "data.dropna(subset=['metric'], inplace=True)\n",
    "data[\"date\"] = pd.to_datetime(data[\"date\"])\n",
    "data.set_index(\"date\", inplace=True)"
   ]
  },
  {
   "cell_type": "code",
   "execution_count": 72,
   "id": "9bf40389-7511-4c57-b58e-9ff708de3011",
   "metadata": {},
   "outputs": [
    {
     "data": {
      "text/html": [
       "<div>\n",
       "<style scoped>\n",
       "    .dataframe tbody tr th:only-of-type {\n",
       "        vertical-align: middle;\n",
       "    }\n",
       "\n",
       "    .dataframe tbody tr th {\n",
       "        vertical-align: top;\n",
       "    }\n",
       "\n",
       "    .dataframe thead th {\n",
       "        text-align: right;\n",
       "    }\n",
       "</style>\n",
       "<table border=\"1\" class=\"dataframe\">\n",
       "  <thead>\n",
       "    <tr style=\"text-align: right;\">\n",
       "      <th></th>\n",
       "      <th>metric</th>\n",
       "      <th>user_count</th>\n",
       "    </tr>\n",
       "    <tr>\n",
       "      <th>date</th>\n",
       "      <th></th>\n",
       "      <th></th>\n",
       "    </tr>\n",
       "  </thead>\n",
       "  <tbody>\n",
       "    <tr>\n",
       "      <th>2022-01-01</th>\n",
       "      <td>0.216393</td>\n",
       "      <td>1.427582</td>\n",
       "    </tr>\n",
       "    <tr>\n",
       "      <th>2022-01-02</th>\n",
       "      <td>0.364508</td>\n",
       "      <td>1.206129</td>\n",
       "    </tr>\n",
       "    <tr>\n",
       "      <th>2022-01-03</th>\n",
       "      <td>0.448037</td>\n",
       "      <td>1.130942</td>\n",
       "    </tr>\n",
       "    <tr>\n",
       "      <th>2022-01-04</th>\n",
       "      <td>0.351351</td>\n",
       "      <td>1.115013</td>\n",
       "    </tr>\n",
       "    <tr>\n",
       "      <th>2022-01-05</th>\n",
       "      <td>0.369524</td>\n",
       "      <td>1.043154</td>\n",
       "    </tr>\n",
       "    <tr>\n",
       "      <th>2022-01-06</th>\n",
       "      <td>0.439506</td>\n",
       "      <td>1.048345</td>\n",
       "    </tr>\n",
       "    <tr>\n",
       "      <th>2022-01-07</th>\n",
       "      <td>0.423174</td>\n",
       "      <td>1.054998</td>\n",
       "    </tr>\n",
       "    <tr>\n",
       "      <th>2022-01-08</th>\n",
       "      <td>0.397619</td>\n",
       "      <td>1.014610</td>\n",
       "    </tr>\n",
       "    <tr>\n",
       "      <th>2022-01-09</th>\n",
       "      <td>0.415190</td>\n",
       "      <td>1.022095</td>\n",
       "    </tr>\n",
       "    <tr>\n",
       "      <th>2022-01-10</th>\n",
       "      <td>0.392936</td>\n",
       "      <td>1.015286</td>\n",
       "    </tr>\n",
       "  </tbody>\n",
       "</table>\n",
       "</div>"
      ],
      "text/plain": [
       "              metric  user_count\n",
       "date                            \n",
       "2022-01-01  0.216393    1.427582\n",
       "2022-01-02  0.364508    1.206129\n",
       "2022-01-03  0.448037    1.130942\n",
       "2022-01-04  0.351351    1.115013\n",
       "2022-01-05  0.369524    1.043154\n",
       "2022-01-06  0.439506    1.048345\n",
       "2022-01-07  0.423174    1.054998\n",
       "2022-01-08  0.397619    1.014610\n",
       "2022-01-09  0.415190    1.022095\n",
       "2022-01-10  0.392936    1.015286"
      ]
     },
     "execution_count": 72,
     "metadata": {},
     "output_type": "execute_result"
    }
   ],
   "source": [
    "data.head(10)"
   ]
  },
  {
   "cell_type": "markdown",
   "id": "8446bebe-e7b1-4d6e-ad64-8d9bc9f40ac6",
   "metadata": {},
   "source": [
    "### S ARIMA model"
   ]
  },
  {
   "cell_type": "code",
   "execution_count": 73,
   "id": "86472d08-1138-40d1-be42-38c62bb9674d",
   "metadata": {},
   "outputs": [
    {
     "data": {
      "text/html": [
       "<style>#sk-container-id-5 {color: black;}#sk-container-id-5 pre{padding: 0;}#sk-container-id-5 div.sk-toggleable {background-color: white;}#sk-container-id-5 label.sk-toggleable__label {cursor: pointer;display: block;width: 100%;margin-bottom: 0;padding: 0.3em;box-sizing: border-box;text-align: center;}#sk-container-id-5 label.sk-toggleable__label-arrow:before {content: \"▸\";float: left;margin-right: 0.25em;color: #696969;}#sk-container-id-5 label.sk-toggleable__label-arrow:hover:before {color: black;}#sk-container-id-5 div.sk-estimator:hover label.sk-toggleable__label-arrow:before {color: black;}#sk-container-id-5 div.sk-toggleable__content {max-height: 0;max-width: 0;overflow: hidden;text-align: left;background-color: #f0f8ff;}#sk-container-id-5 div.sk-toggleable__content pre {margin: 0.2em;color: black;border-radius: 0.25em;background-color: #f0f8ff;}#sk-container-id-5 input.sk-toggleable__control:checked~div.sk-toggleable__content {max-height: 200px;max-width: 100%;overflow: auto;}#sk-container-id-5 input.sk-toggleable__control:checked~label.sk-toggleable__label-arrow:before {content: \"▾\";}#sk-container-id-5 div.sk-estimator input.sk-toggleable__control:checked~label.sk-toggleable__label {background-color: #d4ebff;}#sk-container-id-5 div.sk-label input.sk-toggleable__control:checked~label.sk-toggleable__label {background-color: #d4ebff;}#sk-container-id-5 input.sk-hidden--visually {border: 0;clip: rect(1px 1px 1px 1px);clip: rect(1px, 1px, 1px, 1px);height: 1px;margin: -1px;overflow: hidden;padding: 0;position: absolute;width: 1px;}#sk-container-id-5 div.sk-estimator {font-family: monospace;background-color: #f0f8ff;border: 1px dotted black;border-radius: 0.25em;box-sizing: border-box;margin-bottom: 0.5em;}#sk-container-id-5 div.sk-estimator:hover {background-color: #d4ebff;}#sk-container-id-5 div.sk-parallel-item::after {content: \"\";width: 100%;border-bottom: 1px solid gray;flex-grow: 1;}#sk-container-id-5 div.sk-label:hover label.sk-toggleable__label {background-color: #d4ebff;}#sk-container-id-5 div.sk-serial::before {content: \"\";position: absolute;border-left: 1px solid gray;box-sizing: border-box;top: 0;bottom: 0;left: 50%;z-index: 0;}#sk-container-id-5 div.sk-serial {display: flex;flex-direction: column;align-items: center;background-color: white;padding-right: 0.2em;padding-left: 0.2em;position: relative;}#sk-container-id-5 div.sk-item {position: relative;z-index: 1;}#sk-container-id-5 div.sk-parallel {display: flex;align-items: stretch;justify-content: center;background-color: white;position: relative;}#sk-container-id-5 div.sk-item::before, #sk-container-id-5 div.sk-parallel-item::before {content: \"\";position: absolute;border-left: 1px solid gray;box-sizing: border-box;top: 0;bottom: 0;left: 50%;z-index: -1;}#sk-container-id-5 div.sk-parallel-item {display: flex;flex-direction: column;z-index: 1;position: relative;background-color: white;}#sk-container-id-5 div.sk-parallel-item:first-child::after {align-self: flex-end;width: 50%;}#sk-container-id-5 div.sk-parallel-item:last-child::after {align-self: flex-start;width: 50%;}#sk-container-id-5 div.sk-parallel-item:only-child::after {width: 0;}#sk-container-id-5 div.sk-dashed-wrapped {border: 1px dashed gray;margin: 0 0.4em 0.5em 0.4em;box-sizing: border-box;padding-bottom: 0.4em;background-color: white;}#sk-container-id-5 div.sk-label label {font-family: monospace;font-weight: bold;display: inline-block;line-height: 1.2em;}#sk-container-id-5 div.sk-label-container {text-align: center;}#sk-container-id-5 div.sk-container {/* jupyter's `normalize.less` sets `[hidden] { display: none; }` but bootstrap.min.css set `[hidden] { display: none !important; }` so we also need the `!important` here to be able to override the default hidden behavior on the sphinx rendered scikit-learn.org. See: https://github.com/scikit-learn/scikit-learn/issues/21755 */display: inline-block !important;position: relative;}#sk-container-id-5 div.sk-text-repr-fallback {display: none;}</style><div id=\"sk-container-id-5\" class=\"sk-top-container\"><div class=\"sk-text-repr-fallback\"><pre> ARIMA(0,1,2)(0,0,0)[0] intercept</pre><b>In a Jupyter environment, please rerun this cell to show the HTML representation or trust the notebook. <br />On GitHub, the HTML representation is unable to render, please try loading this page with nbviewer.org.</b></div><div class=\"sk-container\" hidden><div class=\"sk-item\"><div class=\"sk-estimator sk-toggleable\"><input class=\"sk-toggleable__control sk-hidden--visually\" id=\"sk-estimator-id-5\" type=\"checkbox\" checked><label for=\"sk-estimator-id-5\" class=\"sk-toggleable__label sk-toggleable__label-arrow\">ARIMA</label><div class=\"sk-toggleable__content\"><pre> ARIMA(0,1,2)(0,0,0)[0] intercept</pre></div></div></div></div></div>"
      ],
      "text/plain": [
       "ARIMA(order=(0, 1, 2), scoring_args={}, suppress_warnings=True)"
      ]
     },
     "execution_count": 73,
     "metadata": {},
     "output_type": "execute_result"
    }
   ],
   "source": [
    "sarima_model = auto_arima(data['metric'], seasonal=True, year=1)\n",
    "sarima_model"
   ]
  },
  {
   "cell_type": "code",
   "execution_count": 74,
   "id": "f50dcdb6-af0e-45ed-a66c-29ae80dd2a48",
   "metadata": {},
   "outputs": [
    {
     "name": "stdout",
     "output_type": "stream",
     "text": [
      "MSE data 0.0012591644958773662\n",
      "MAE data 0.025487883988243917\n"
     ]
    }
   ],
   "source": [
    "data['sarima_forecast'] = sarima_model.predict_in_sample()\n",
    "\n",
    "\n",
    "print('MSE data',mean_squared_error(data['metric'], data['sarima_forecast']))\n",
    "print('MAE data',mean_absolute_error(data['metric'], data['sarima_forecast']))"
   ]
  },
  {
   "cell_type": "markdown",
   "id": "f445f839-f7ed-4874-b833-5142b97c00d6",
   "metadata": {},
   "source": [
    "### Calculation of the upper and lower limits of alerting"
   ]
  },
  {
   "cell_type": "code",
   "execution_count": 75,
   "id": "ed60a0ee-2d6d-443c-a8e2-5d2d7d1117ff",
   "metadata": {},
   "outputs": [],
   "source": [
    "# Calculation of the difference between real and predicted data\n",
    "data['sarima_residual'] = data['metric'] - data['sarima_forecast']\n",
    "#Calculation of the alert threshold\n",
    "alert_threshold =  data['sarima_forecast'].std() * data['user_count']\n",
    "# Аnomalies\n",
    "anomalies = data[data['sarima_residual'].abs() > alert_threshold]\n",
    "# Upper border\n",
    "up = data['sarima_forecast'] + alert_threshold\n",
    "# Lower border\n",
    "low = data['sarima_forecast'] - alert_threshold"
   ]
  },
  {
   "cell_type": "markdown",
   "id": "c60e8273-a219-4ba7-b4da-70f84916fe04",
   "metadata": {},
   "source": [
    "### Linear monitoring diagram"
   ]
  },
  {
   "cell_type": "code",
   "execution_count": 77,
   "id": "636300c4-b6f2-43c6-bbad-6d89553e8a0b",
   "metadata": {},
   "outputs": [
    {
     "data": {
      "text/html": [
       "<iframe\n",
       "    scrolling=\"no\"\n",
       "    width=\"2520px\"\n",
       "    height=\"520\"\n",
       "    src=\"iframe_figures/figure_77.html\"\n",
       "    frameborder=\"0\"\n",
       "    allowfullscreen\n",
       "></iframe>\n"
      ]
     },
     "metadata": {},
     "output_type": "display_data"
    }
   ],
   "source": [
    "fig = go.Figure()\n",
    "\n",
    "fig.add_trace(go.Scatter(x=data.index, y=data['metric'], mode='lines',line=dict( width=1.5), name='Дані'))\n",
    "fig.add_trace(go.Scatter(x=data.index, y=data['sarima_forecast'], mode='lines',line=dict( width=1.5), name='SARIMA'))\n",
    "fig.add_trace(go.Scatter(x=anomalies.index, y=anomalies['metric'], mode='markers', marker=dict(color='red'), name='Аномалії'))\n",
    "fig.add_trace(go.Scatter(x=data.index.tolist() + data.index.tolist()[::-1],\n",
    "                         y=up.tolist() + low.tolist()[::-1],\n",
    "                         fill='toself', fillcolor='green',opacity=0.2 , line=dict(color='green'),\n",
    "                         name=' Normal Area'))\n",
    "fig.update_layout(\n",
    "    xaxis_title='Date',\n",
    "    yaxis_title='Metric',\n",
    "    showlegend=True,\n",
    "    width=2500,\n",
    "    height=500,\n",
    "    plot_bgcolor='white',\n",
    "    xaxis_gridcolor='white', \n",
    "    yaxis_gridcolor='lightgray' ,\n",
    ")\n",
    "fig.show(renderer='iframe')"
   ]
  },
  {
   "cell_type": "code",
   "execution_count": 78,
   "id": "dd057143-fadf-4cd2-af10-6b849fcb63db",
   "metadata": {},
   "outputs": [
    {
     "data": {
      "text/html": [
       "<div>\n",
       "<style scoped>\n",
       "    .dataframe tbody tr th:only-of-type {\n",
       "        vertical-align: middle;\n",
       "    }\n",
       "\n",
       "    .dataframe tbody tr th {\n",
       "        vertical-align: top;\n",
       "    }\n",
       "\n",
       "    .dataframe thead th {\n",
       "        text-align: right;\n",
       "    }\n",
       "</style>\n",
       "<table border=\"1\" class=\"dataframe\">\n",
       "  <thead>\n",
       "    <tr style=\"text-align: right;\">\n",
       "      <th></th>\n",
       "      <th>metric</th>\n",
       "      <th>user_count</th>\n",
       "      <th>sarima_forecast</th>\n",
       "      <th>sarima_residual</th>\n",
       "    </tr>\n",
       "    <tr>\n",
       "      <th>date</th>\n",
       "      <th></th>\n",
       "      <th></th>\n",
       "      <th></th>\n",
       "      <th></th>\n",
       "    </tr>\n",
       "  </thead>\n",
       "  <tbody>\n",
       "    <tr>\n",
       "      <th>2022-01-01</th>\n",
       "      <td>0.216393</td>\n",
       "      <td>1.427582</td>\n",
       "      <td>0.000299</td>\n",
       "      <td>0.216094</td>\n",
       "    </tr>\n",
       "    <tr>\n",
       "      <th>2022-01-02</th>\n",
       "      <td>0.364508</td>\n",
       "      <td>1.206129</td>\n",
       "      <td>0.216693</td>\n",
       "      <td>0.147815</td>\n",
       "    </tr>\n",
       "    <tr>\n",
       "      <th>2022-01-03</th>\n",
       "      <td>0.448037</td>\n",
       "      <td>1.130942</td>\n",
       "      <td>0.316104</td>\n",
       "      <td>0.131933</td>\n",
       "    </tr>\n",
       "    <tr>\n",
       "      <th>2022-01-04</th>\n",
       "      <td>0.351351</td>\n",
       "      <td>1.115013</td>\n",
       "      <td>0.367488</td>\n",
       "      <td>-0.016136</td>\n",
       "    </tr>\n",
       "  </tbody>\n",
       "</table>\n",
       "</div>"
      ],
      "text/plain": [
       "              metric  user_count  sarima_forecast  sarima_residual\n",
       "date                                                              \n",
       "2022-01-01  0.216393    1.427582         0.000299         0.216094\n",
       "2022-01-02  0.364508    1.206129         0.216693         0.147815\n",
       "2022-01-03  0.448037    1.130942         0.316104         0.131933\n",
       "2022-01-04  0.351351    1.115013         0.367488        -0.016136"
      ]
     },
     "execution_count": 78,
     "metadata": {},
     "output_type": "execute_result"
    }
   ],
   "source": [
    "data.head(4)"
   ]
  },
  {
   "cell_type": "code",
   "execution_count": 81,
   "id": "1610ea98-a8f7-4984-b406-ded238f7198f",
   "metadata": {},
   "outputs": [
    {
     "data": {
      "text/plain": [
       "metric             39\n",
       "user_count         39\n",
       "sarima_forecast    39\n",
       "sarima_residual    39\n",
       "dtype: int64"
      ]
     },
     "execution_count": 81,
     "metadata": {},
     "output_type": "execute_result"
    }
   ],
   "source": [
    "anomalies.count()"
   ]
  },
  {
   "cell_type": "code",
   "execution_count": 82,
   "id": "4ad73d9d-60f0-449f-b702-318fabd06f4c",
   "metadata": {},
   "outputs": [
    {
     "data": {
      "text/html": [
       "<div>\n",
       "<style scoped>\n",
       "    .dataframe tbody tr th:only-of-type {\n",
       "        vertical-align: middle;\n",
       "    }\n",
       "\n",
       "    .dataframe tbody tr th {\n",
       "        vertical-align: top;\n",
       "    }\n",
       "\n",
       "    .dataframe thead th {\n",
       "        text-align: right;\n",
       "    }\n",
       "</style>\n",
       "<table border=\"1\" class=\"dataframe\">\n",
       "  <thead>\n",
       "    <tr style=\"text-align: right;\">\n",
       "      <th></th>\n",
       "      <th>metric</th>\n",
       "      <th>user_count</th>\n",
       "      <th>sarima_forecast</th>\n",
       "      <th>sarima_residual</th>\n",
       "    </tr>\n",
       "    <tr>\n",
       "      <th>date</th>\n",
       "      <th></th>\n",
       "      <th></th>\n",
       "      <th></th>\n",
       "      <th></th>\n",
       "    </tr>\n",
       "  </thead>\n",
       "  <tbody>\n",
       "    <tr>\n",
       "      <th>2022-01-01</th>\n",
       "      <td>0.216393</td>\n",
       "      <td>1.427582</td>\n",
       "      <td>0.000299</td>\n",
       "      <td>0.216094</td>\n",
       "    </tr>\n",
       "    <tr>\n",
       "      <th>2022-01-02</th>\n",
       "      <td>0.364508</td>\n",
       "      <td>1.206129</td>\n",
       "      <td>0.216693</td>\n",
       "      <td>0.147815</td>\n",
       "    </tr>\n",
       "    <tr>\n",
       "      <th>2022-01-03</th>\n",
       "      <td>0.448037</td>\n",
       "      <td>1.130942</td>\n",
       "      <td>0.316104</td>\n",
       "      <td>0.131933</td>\n",
       "    </tr>\n",
       "    <tr>\n",
       "      <th>2022-01-06</th>\n",
       "      <td>0.439506</td>\n",
       "      <td>1.048345</td>\n",
       "      <td>0.355002</td>\n",
       "      <td>0.084504</td>\n",
       "    </tr>\n",
       "    <tr>\n",
       "      <th>2022-01-13</th>\n",
       "      <td>0.466667</td>\n",
       "      <td>1.079280</td>\n",
       "      <td>0.397579</td>\n",
       "      <td>0.069087</td>\n",
       "    </tr>\n",
       "    <tr>\n",
       "      <th>2022-02-17</th>\n",
       "      <td>0.484594</td>\n",
       "      <td>1.109937</td>\n",
       "      <td>0.409770</td>\n",
       "      <td>0.074824</td>\n",
       "    </tr>\n",
       "    <tr>\n",
       "      <th>2022-03-17</th>\n",
       "      <td>0.364532</td>\n",
       "      <td>1.145392</td>\n",
       "      <td>0.438721</td>\n",
       "      <td>-0.074189</td>\n",
       "    </tr>\n",
       "    <tr>\n",
       "      <th>2022-04-01</th>\n",
       "      <td>0.243169</td>\n",
       "      <td>1.195250</td>\n",
       "      <td>0.425646</td>\n",
       "      <td>-0.182476</td>\n",
       "    </tr>\n",
       "    <tr>\n",
       "      <th>2022-04-02</th>\n",
       "      <td>0.169892</td>\n",
       "      <td>1.148413</td>\n",
       "      <td>0.349096</td>\n",
       "      <td>-0.179203</td>\n",
       "    </tr>\n",
       "    <tr>\n",
       "      <th>2022-04-03</th>\n",
       "      <td>0.140665</td>\n",
       "      <td>1.151015</td>\n",
       "      <td>0.324186</td>\n",
       "      <td>-0.183521</td>\n",
       "    </tr>\n",
       "  </tbody>\n",
       "</table>\n",
       "</div>"
      ],
      "text/plain": [
       "              metric  user_count  sarima_forecast  sarima_residual\n",
       "date                                                              \n",
       "2022-01-01  0.216393    1.427582         0.000299         0.216094\n",
       "2022-01-02  0.364508    1.206129         0.216693         0.147815\n",
       "2022-01-03  0.448037    1.130942         0.316104         0.131933\n",
       "2022-01-06  0.439506    1.048345         0.355002         0.084504\n",
       "2022-01-13  0.466667    1.079280         0.397579         0.069087\n",
       "2022-02-17  0.484594    1.109937         0.409770         0.074824\n",
       "2022-03-17  0.364532    1.145392         0.438721        -0.074189\n",
       "2022-04-01  0.243169    1.195250         0.425646        -0.182476\n",
       "2022-04-02  0.169892    1.148413         0.349096        -0.179203\n",
       "2022-04-03  0.140665    1.151015         0.324186        -0.183521"
      ]
     },
     "execution_count": 82,
     "metadata": {},
     "output_type": "execute_result"
    }
   ],
   "source": [
    "anomalies.head(10)"
   ]
  },
  {
   "cell_type": "code",
   "execution_count": null,
   "id": "fbd515d7-67e7-4bc5-87e5-e22ffb1c7b9a",
   "metadata": {},
   "outputs": [],
   "source": []
  }
 ],
 "metadata": {
  "kernelspec": {
   "display_name": "Python 3 (ipykernel)",
   "language": "python",
   "name": "python3"
  },
  "language_info": {
   "codemirror_mode": {
    "name": "ipython",
    "version": 3
   },
   "file_extension": ".py",
   "mimetype": "text/x-python",
   "name": "python",
   "nbconvert_exporter": "python",
   "pygments_lexer": "ipython3",
   "version": "3.11.2"
  }
 },
 "nbformat": 4,
 "nbformat_minor": 5
}
